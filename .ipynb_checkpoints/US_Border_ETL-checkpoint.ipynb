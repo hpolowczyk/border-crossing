{
 "cells": [
  {
   "cell_type": "markdown",
   "metadata": {},
   "source": [
    "# U.S. Border Entry ETL\n",
    "---"
   ]
  },
  {
   "cell_type": "markdown",
   "metadata": {},
   "source": [
    "## Extract\n",
    "\n",
    "U.S. border-crossing data was extracted from the Bureau of Transportation Statistics (BTS) Border Crossing API ( https://data.transportation.gov/Research-and-Statistics/Border-Crossing-Entry-Data/keg4-3bc2 ). Seeing as this data is found in the Socrata Public Data API, instead of extracting border-crossing data via JSON, the sodapy library was used."
   ]
  },
  {
   "cell_type": "code",
   "execution_count": 1,
   "metadata": {},
   "outputs": [],
   "source": [
    "# Dependencies\n",
    "import pandas as pd\n",
    "from sodapy import Socrata\n",
    "from sqlalchemy import create_engine"
   ]
  },
  {
   "cell_type": "code",
   "execution_count": 2,
   "metadata": {},
   "outputs": [
    {
     "name": "stderr",
     "output_type": "stream",
     "text": [
      "WARNING:root:Requests made without an app_token will be subject to strict throttling limits.\n"
     ]
    }
   ],
   "source": [
    "# Activate the Socrata Public Data API, specifically transportation data\n",
    "client = Socrata(\"data.transportation.gov\", None)"
   ]
  },
  {
   "cell_type": "markdown",
   "metadata": {},
   "source": [
    "In order to ensure that the throttling limits were not reached, conditions were added when extracting the data."
   ]
  },
  {
   "cell_type": "code",
   "execution_count": 3,
   "metadata": {},
   "outputs": [],
   "source": [
    "# Create conditions to ensure most rows will be used in final database\n",
    "conditions = \"date >= '2007-05-01' and value > 0 and (measure = 'Personal Vehicles' or \\\n",
    "              measure = 'Personal Vehicles Passengers' or measure = 'Bus Passengers' or measure = 'Train Passengers') \""
   ]
  },
  {
   "cell_type": "code",
   "execution_count": 9,
   "metadata": {},
   "outputs": [],
   "source": [
    "# Request Border Entry data from specified API including additional conditions\n",
    "results = client.get(\"keg4-3bc2\", limit = 25000,  border = 'US-Canada Border', where = conditions)"
   ]
  },
  {
   "cell_type": "code",
   "execution_count": 10,
   "metadata": {},
   "outputs": [],
   "source": [
    "# Create a Pandas Dataframe\n",
    "df = pd.DataFrame.from_records(results)"
   ]
  },
  {
   "cell_type": "code",
   "execution_count": 11,
   "metadata": {
    "scrolled": true
   },
   "outputs": [],
   "source": [
    "# Sort the Dataframe by date\n",
    "df = df.sort_values(by=['date'])"
   ]
  },
  {
   "cell_type": "markdown",
   "metadata": {},
   "source": [
    "## Transform\n",
    "\n",
    "Columns such as border and port_id were removed since the border column only had one value \"US-Canada Border\" and port_id was not useful for additional analysis. The date column was then formatted to a datetime object for better readibility. Columns were renamed for user clarity and the index was reset."
   ]
  },
  {
   "cell_type": "code",
   "execution_count": 13,
   "metadata": {},
   "outputs": [],
   "source": [
    "# Create a copy of the dataframe to manipulate the columns\n",
    "border_df = df.copy()\n",
    "# Remove border and port code columns\n",
    "border_df = border_df[['date','measure','port_name','state','value']]\n",
    "# Change data type for date column\n",
    "border_df['date'] = pd.to_datetime(border_df['date'])\n",
    "# Rename columns accordingly\n",
    "border_df = border_df.rename(columns={\"date\": \"Date\", \"measure\": \"Transportation Type\", \"port_name\": \"City\", \n",
    "                                      \"state\": \"State\", \"value\": \"Number of Passengers\"})\n",
    "# Reset index to start at 0\n",
    "border_df = border_df.reset_index(drop=True)"
   ]
  },
  {
   "cell_type": "markdown",
   "metadata": {},
   "source": [
    "## Load\n",
    "\n",
    "A connection was made to the border_db database in Postgres. A table called border_entry was created (see border_entry_schema.sql for completed schema). Using pandas, the dataframe was loaded into the border_db."
   ]
  },
  {
   "cell_type": "code",
   "execution_count": 14,
   "metadata": {},
   "outputs": [],
   "source": [
    "# Connect to local database\n",
    "connection_string = \"postgres: @localhost:5432/border_db\"\n",
    "engine = create_engine(f'postgresql://{connection_string}')"
   ]
  },
  {
   "cell_type": "code",
   "execution_count": 15,
   "metadata": {},
   "outputs": [
    {
     "data": {
      "text/plain": [
       "['fx_rates', 'border_entry', 'cpi']"
      ]
     },
     "execution_count": 15,
     "metadata": {},
     "output_type": "execute_result"
    }
   ],
   "source": [
    "# Check for tables\n",
    "engine.table_names()"
   ]
  },
  {
   "cell_type": "code",
   "execution_count": 16,
   "metadata": {},
   "outputs": [],
   "source": [
    "# Use pandas to load Dataframe into the database\n",
    "border_df.to_sql(name='border_entry', con=engine, if_exists='append', index=False)"
   ]
  },
  {
   "cell_type": "code",
   "execution_count": 17,
   "metadata": {},
   "outputs": [
    {
     "data": {
      "text/html": [
       "<div>\n",
       "<style scoped>\n",
       "    .dataframe tbody tr th:only-of-type {\n",
       "        vertical-align: middle;\n",
       "    }\n",
       "\n",
       "    .dataframe tbody tr th {\n",
       "        vertical-align: top;\n",
       "    }\n",
       "\n",
       "    .dataframe thead th {\n",
       "        text-align: right;\n",
       "    }\n",
       "</style>\n",
       "<table border=\"1\" class=\"dataframe\">\n",
       "  <thead>\n",
       "    <tr style=\"text-align: right;\">\n",
       "      <th></th>\n",
       "      <th>ID</th>\n",
       "      <th>Date</th>\n",
       "      <th>Transportation Type</th>\n",
       "      <th>City</th>\n",
       "      <th>State</th>\n",
       "      <th>Number of Passengers</th>\n",
       "    </tr>\n",
       "  </thead>\n",
       "  <tbody>\n",
       "    <tr>\n",
       "      <th>0</th>\n",
       "      <td>1</td>\n",
       "      <td>2007-05-01</td>\n",
       "      <td>Bus Passengers</td>\n",
       "      <td>Port Huron</td>\n",
       "      <td>Michigan</td>\n",
       "      <td>12653</td>\n",
       "    </tr>\n",
       "    <tr>\n",
       "      <th>1</th>\n",
       "      <td>2</td>\n",
       "      <td>2007-05-01</td>\n",
       "      <td>Bus Passengers</td>\n",
       "      <td>Ogdensburg</td>\n",
       "      <td>New York</td>\n",
       "      <td>1430</td>\n",
       "    </tr>\n",
       "    <tr>\n",
       "      <th>2</th>\n",
       "      <td>3</td>\n",
       "      <td>2007-05-01</td>\n",
       "      <td>Personal Vehicles</td>\n",
       "      <td>Willow Creek</td>\n",
       "      <td>Montana</td>\n",
       "      <td>187</td>\n",
       "    </tr>\n",
       "    <tr>\n",
       "      <th>3</th>\n",
       "      <td>4</td>\n",
       "      <td>2007-05-01</td>\n",
       "      <td>Bus Passengers</td>\n",
       "      <td>Morgan</td>\n",
       "      <td>Montana</td>\n",
       "      <td>36</td>\n",
       "    </tr>\n",
       "    <tr>\n",
       "      <th>4</th>\n",
       "      <td>5</td>\n",
       "      <td>2007-05-01</td>\n",
       "      <td>Train Passengers</td>\n",
       "      <td>Vanceboro</td>\n",
       "      <td>Maine</td>\n",
       "      <td>54</td>\n",
       "    </tr>\n",
       "  </tbody>\n",
       "</table>\n",
       "</div>"
      ],
      "text/plain": [
       "   ID        Date Transportation Type          City     State  \\\n",
       "0   1  2007-05-01      Bus Passengers    Port Huron  Michigan   \n",
       "1   2  2007-05-01      Bus Passengers    Ogdensburg  New York   \n",
       "2   3  2007-05-01   Personal Vehicles  Willow Creek   Montana   \n",
       "3   4  2007-05-01      Bus Passengers        Morgan   Montana   \n",
       "4   5  2007-05-01    Train Passengers     Vanceboro     Maine   \n",
       "\n",
       "   Number of Passengers  \n",
       "0                 12653  \n",
       "1                  1430  \n",
       "2                   187  \n",
       "3                    36  \n",
       "4                    54  "
      ]
     },
     "execution_count": 17,
     "metadata": {},
     "output_type": "execute_result"
    }
   ],
   "source": [
    "# Confirm that the data was added by querying the database\n",
    "pd.read_sql_query('select * from border_entry', con=engine).head()"
   ]
  }
 ],
 "metadata": {
  "kernelspec": {
   "display_name": "Python 3",
   "language": "python",
   "name": "python3"
  },
  "language_info": {
   "codemirror_mode": {
    "name": "ipython",
    "version": 3
   },
   "file_extension": ".py",
   "mimetype": "text/x-python",
   "name": "python",
   "nbconvert_exporter": "python",
   "pygments_lexer": "ipython3",
   "version": "3.7.3"
  }
 },
 "nbformat": 4,
 "nbformat_minor": 2
}
