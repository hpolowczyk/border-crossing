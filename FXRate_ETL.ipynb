{
 "cells": [
  {
   "cell_type": "markdown",
   "metadata": {},
   "source": [
    "# Import Dependencies"
   ]
  },
  {
   "cell_type": "code",
   "execution_count": 1,
   "metadata": {},
   "outputs": [],
   "source": [
    "#Import dependencies\n",
    "import pandas as pd\n",
    "import json\n",
    "\n",
    "from sqlalchemy import create_engine\n",
    "\n",
    "import datetime as dt"
   ]
  },
  {
   "cell_type": "markdown",
   "metadata": {},
   "source": [
    "# Import JSON Files"
   ]
  },
  {
   "cell_type": "code",
   "execution_count": 2,
   "metadata": {},
   "outputs": [],
   "source": [
    "#Data for rates 2007-05-01 to 2017-04-28 \n",
    "data = json.load(open('Resources/2017_LEGACY_CLOSING_RATES.json'))\n",
    "df_2017_currencies = pd.DataFrame(data[\"seriesDetail\"])\n",
    "#df_2017_currencies.head()\n",
    "\n",
    "df_2017_observations = pd.DataFrame(data[\"observations\"])\n",
    "#df_2017_observations.head()\n",
    "\n",
    "\n",
    "\n",
    "#Data for rates > 2017-04-28 in a different file\n",
    "data = json.load(open('Resources/FXUSDCAD-sd-2017-05-01-ed-2019-06-28.json'))\n",
    "\n",
    "df_2018_observations = pd.DataFrame(data[\"observations\"])\n",
    "#df_2018_observations.head()"
   ]
  },
  {
   "cell_type": "markdown",
   "metadata": {},
   "source": [
    "# Transform\n",
    "### Data made available in 2 different files, one with rates for 2007-05-01 to 2017-04-28 & the other for rates after 2017-04-28. "
   ]
  },
  {
   "cell_type": "code",
   "execution_count": 3,
   "metadata": {},
   "outputs": [
    {
     "data": {
      "text/html": [
       "<div>\n",
       "<style scoped>\n",
       "    .dataframe tbody tr th:only-of-type {\n",
       "        vertical-align: middle;\n",
       "    }\n",
       "\n",
       "    .dataframe tbody tr th {\n",
       "        vertical-align: top;\n",
       "    }\n",
       "\n",
       "    .dataframe thead th {\n",
       "        text-align: right;\n",
       "    }\n",
       "</style>\n",
       "<table border=\"1\" class=\"dataframe\">\n",
       "  <thead>\n",
       "    <tr style=\"text-align: right;\">\n",
       "      <th></th>\n",
       "      <th>Date</th>\n",
       "      <th>Closing_Rate</th>\n",
       "    </tr>\n",
       "  </thead>\n",
       "  <tbody>\n",
       "    <tr>\n",
       "      <th>0</th>\n",
       "      <td>2007-05-01</td>\n",
       "      <td>1.1105</td>\n",
       "    </tr>\n",
       "    <tr>\n",
       "      <th>1</th>\n",
       "      <td>2007-05-02</td>\n",
       "      <td>1.1087</td>\n",
       "    </tr>\n",
       "    <tr>\n",
       "      <th>2</th>\n",
       "      <td>2007-05-03</td>\n",
       "      <td>1.1066</td>\n",
       "    </tr>\n",
       "    <tr>\n",
       "      <th>3</th>\n",
       "      <td>2007-05-04</td>\n",
       "      <td>1.1075</td>\n",
       "    </tr>\n",
       "    <tr>\n",
       "      <th>4</th>\n",
       "      <td>2007-05-07</td>\n",
       "      <td>1.1018</td>\n",
       "    </tr>\n",
       "  </tbody>\n",
       "</table>\n",
       "</div>"
      ],
      "text/plain": [
       "         Date Closing_Rate\n",
       "0  2007-05-01       1.1105\n",
       "1  2007-05-02       1.1087\n",
       "2  2007-05-03       1.1066\n",
       "3  2007-05-04       1.1075\n",
       "4  2007-05-07       1.1018"
      ]
     },
     "execution_count": 3,
     "metadata": {},
     "output_type": "execute_result"
    }
   ],
   "source": [
    "#Transform 2007-05-01 to 2017-04-28  data\n",
    "#IEXE0102 - US Closing price\n",
    "arr = []\n",
    "for row in range(len(df_2017_observations)):\n",
    "    arr.append([df_2017_observations['d'][row], df_2017_observations['IEXE0102'][row]['v'] ])\n",
    "    \n",
    "df_2017 = pd.DataFrame(arr)\n",
    "\n",
    "df_2017.rename(columns={0:'Date', 1:'Closing_Rate'}, inplace=True)\n",
    "\n",
    "\n",
    "df_2017.head() "
   ]
  },
  {
   "cell_type": "code",
   "execution_count": 4,
   "metadata": {},
   "outputs": [
    {
     "data": {
      "text/html": [
       "<div>\n",
       "<style scoped>\n",
       "    .dataframe tbody tr th:only-of-type {\n",
       "        vertical-align: middle;\n",
       "    }\n",
       "\n",
       "    .dataframe tbody tr th {\n",
       "        vertical-align: top;\n",
       "    }\n",
       "\n",
       "    .dataframe thead th {\n",
       "        text-align: right;\n",
       "    }\n",
       "</style>\n",
       "<table border=\"1\" class=\"dataframe\">\n",
       "  <thead>\n",
       "    <tr style=\"text-align: right;\">\n",
       "      <th></th>\n",
       "      <th>Date</th>\n",
       "      <th>Closing_Rate</th>\n",
       "    </tr>\n",
       "  </thead>\n",
       "  <tbody>\n",
       "    <tr>\n",
       "      <th>0</th>\n",
       "      <td>2017-05-01</td>\n",
       "      <td>1.3660</td>\n",
       "    </tr>\n",
       "    <tr>\n",
       "      <th>1</th>\n",
       "      <td>2017-05-02</td>\n",
       "      <td>1.3720</td>\n",
       "    </tr>\n",
       "    <tr>\n",
       "      <th>2</th>\n",
       "      <td>2017-05-03</td>\n",
       "      <td>1.3714</td>\n",
       "    </tr>\n",
       "    <tr>\n",
       "      <th>3</th>\n",
       "      <td>2017-05-04</td>\n",
       "      <td>1.3743</td>\n",
       "    </tr>\n",
       "    <tr>\n",
       "      <th>4</th>\n",
       "      <td>2017-05-05</td>\n",
       "      <td>1.3712</td>\n",
       "    </tr>\n",
       "  </tbody>\n",
       "</table>\n",
       "</div>"
      ],
      "text/plain": [
       "         Date Closing_Rate\n",
       "0  2017-05-01       1.3660\n",
       "1  2017-05-02       1.3720\n",
       "2  2017-05-03       1.3714\n",
       "3  2017-05-04       1.3743\n",
       "4  2017-05-05       1.3712"
      ]
     },
     "execution_count": 4,
     "metadata": {},
     "output_type": "execute_result"
    }
   ],
   "source": [
    "#Transform > 2017-04-28  data\n",
    "\n",
    "arr = []\n",
    "for row in range(len(df_2018_observations)):\n",
    "    arr.append([df_2018_observations['d'][row], df_2018_observations['FXUSDCAD'][row]['v'] ])\n",
    "    \n",
    "df_2018 = pd.DataFrame(arr)\n",
    "\n",
    "df_2018.rename(columns={0:'Date', 1:'Closing_Rate'}, inplace=True)\n",
    "\n",
    "\n",
    "df_2018.head() "
   ]
  },
  {
   "cell_type": "markdown",
   "metadata": {},
   "source": [
    "# Load Data"
   ]
  },
  {
   "cell_type": "code",
   "execution_count": 5,
   "metadata": {},
   "outputs": [
    {
     "name": "stdout",
     "output_type": "stream",
     "text": [
      "Min Date: 2007-05-01, Closing Rate: 0.9215\n",
      "Max Date: 2019-06-28, Closing Rate: 0.9215\n"
     ]
    }
   ],
   "source": [
    "#Merge the 2 dataframes\n",
    "df_2017 = df_2017.append(df_2018)\n",
    "\n",
    "fx_rates = df_2017.copy()\n",
    "\n",
    "print(f'Min Date: {fx_rates.Date.min()}, Closing Rate: {fx_rates.Closing_Rate.min()}')\n",
    "print(f'Max Date: {fx_rates.Date.max()}, Closing Rate: {fx_rates.Closing_Rate.min()}')"
   ]
  },
  {
   "cell_type": "markdown",
   "metadata": {},
   "source": [
    "### Get the average rates per month"
   ]
  },
  {
   "cell_type": "code",
   "execution_count": 6,
   "metadata": {},
   "outputs": [],
   "source": [
    "fx_rates['Date']= pd.to_datetime(fx_rates['Date']) \n",
    "fx_rates['Closing_Rate']= pd.to_numeric(fx_rates['Closing_Rate']) "
   ]
  },
  {
   "cell_type": "code",
   "execution_count": 7,
   "metadata": {},
   "outputs": [
    {
     "data": {
      "text/html": [
       "<div>\n",
       "<style scoped>\n",
       "    .dataframe tbody tr th:only-of-type {\n",
       "        vertical-align: middle;\n",
       "    }\n",
       "\n",
       "    .dataframe tbody tr th {\n",
       "        vertical-align: top;\n",
       "    }\n",
       "\n",
       "    .dataframe thead th {\n",
       "        text-align: right;\n",
       "    }\n",
       "</style>\n",
       "<table border=\"1\" class=\"dataframe\">\n",
       "  <thead>\n",
       "    <tr style=\"text-align: right;\">\n",
       "      <th></th>\n",
       "      <th>Date</th>\n",
       "      <th>Average_FX</th>\n",
       "    </tr>\n",
       "  </thead>\n",
       "  <tbody>\n",
       "    <tr>\n",
       "      <th>0</th>\n",
       "      <td>Apr 2008</td>\n",
       "      <td>1.013105</td>\n",
       "    </tr>\n",
       "    <tr>\n",
       "      <th>1</th>\n",
       "      <td>Apr 2009</td>\n",
       "      <td>1.224595</td>\n",
       "    </tr>\n",
       "    <tr>\n",
       "      <th>2</th>\n",
       "      <td>Apr 2010</td>\n",
       "      <td>1.005052</td>\n",
       "    </tr>\n",
       "    <tr>\n",
       "      <th>3</th>\n",
       "      <td>Apr 2011</td>\n",
       "      <td>0.957795</td>\n",
       "    </tr>\n",
       "    <tr>\n",
       "      <th>4</th>\n",
       "      <td>Apr 2012</td>\n",
       "      <td>0.992650</td>\n",
       "    </tr>\n",
       "  </tbody>\n",
       "</table>\n",
       "</div>"
      ],
      "text/plain": [
       "       Date  Average_FX\n",
       "0  Apr 2008    1.013105\n",
       "1  Apr 2009    1.224595\n",
       "2  Apr 2010    1.005052\n",
       "3  Apr 2011    0.957795\n",
       "4  Apr 2012    0.992650"
      ]
     },
     "execution_count": 7,
     "metadata": {},
     "output_type": "execute_result"
    }
   ],
   "source": [
    "fx_rates_avg = pd.DataFrame()\n",
    "fx_rates[\"Date\"] = fx_rates[\"Date\"].dt.strftime('%b %Y')\n",
    "\n",
    "fx_rates_avg = fx_rates.groupby('Date', as_index=False).agg({\"Closing_Rate\": \"mean\"})\n",
    "\n",
    "fx_rates_avg.rename(columns={\"Closing_Rate\":\"Average_FX\"}, inplace=True)\n",
    "\n",
    "fx_rates_avg.head()"
   ]
  },
  {
   "cell_type": "code",
   "execution_count": 8,
   "metadata": {},
   "outputs": [],
   "source": [
    "rds_connection_string = \"postgres: @localhost:5432/border_db\"\n",
    "#rds_connection_string = \"postgres: :5432/border_db\"\n",
    "engine = create_engine(f'postgresql://{rds_connection_string}')"
   ]
  },
  {
   "cell_type": "code",
   "execution_count": 9,
   "metadata": {},
   "outputs": [],
   "source": [
    "fx_rates_avg.to_sql(name='fx_rates', con=engine, if_exists='append', index=False)"
   ]
  },
  {
   "cell_type": "code",
   "execution_count": 10,
   "metadata": {},
   "outputs": [
    {
     "data": {
      "text/html": [
       "<div>\n",
       "<style scoped>\n",
       "    .dataframe tbody tr th:only-of-type {\n",
       "        vertical-align: middle;\n",
       "    }\n",
       "\n",
       "    .dataframe tbody tr th {\n",
       "        vertical-align: top;\n",
       "    }\n",
       "\n",
       "    .dataframe thead th {\n",
       "        text-align: right;\n",
       "    }\n",
       "</style>\n",
       "<table border=\"1\" class=\"dataframe\">\n",
       "  <thead>\n",
       "    <tr style=\"text-align: right;\">\n",
       "      <th></th>\n",
       "      <th>id</th>\n",
       "      <th>Date</th>\n",
       "      <th>Average_FX</th>\n",
       "    </tr>\n",
       "  </thead>\n",
       "  <tbody>\n",
       "    <tr>\n",
       "      <th>0</th>\n",
       "      <td>1</td>\n",
       "      <td>Apr 2008</td>\n",
       "      <td>1.0131</td>\n",
       "    </tr>\n",
       "    <tr>\n",
       "      <th>1</th>\n",
       "      <td>2</td>\n",
       "      <td>Apr 2009</td>\n",
       "      <td>1.2246</td>\n",
       "    </tr>\n",
       "    <tr>\n",
       "      <th>2</th>\n",
       "      <td>3</td>\n",
       "      <td>Apr 2010</td>\n",
       "      <td>1.0051</td>\n",
       "    </tr>\n",
       "    <tr>\n",
       "      <th>3</th>\n",
       "      <td>4</td>\n",
       "      <td>Apr 2011</td>\n",
       "      <td>0.9578</td>\n",
       "    </tr>\n",
       "    <tr>\n",
       "      <th>4</th>\n",
       "      <td>5</td>\n",
       "      <td>Apr 2012</td>\n",
       "      <td>0.9927</td>\n",
       "    </tr>\n",
       "  </tbody>\n",
       "</table>\n",
       "</div>"
      ],
      "text/plain": [
       "   id      Date  Average_FX\n",
       "0   1  Apr 2008      1.0131\n",
       "1   2  Apr 2009      1.2246\n",
       "2   3  Apr 2010      1.0051\n",
       "3   4  Apr 2011      0.9578\n",
       "4   5  Apr 2012      0.9927"
      ]
     },
     "execution_count": 10,
     "metadata": {},
     "output_type": "execute_result"
    }
   ],
   "source": [
    "pd.read_sql_query('select * from fx_rates', con=engine).head()"
   ]
  }
 ],
 "metadata": {
  "kernelspec": {
   "display_name": "Python 3",
   "language": "python",
   "name": "python3"
  },
  "language_info": {
   "codemirror_mode": {
    "name": "ipython",
    "version": 3
   },
   "file_extension": ".py",
   "mimetype": "text/x-python",
   "name": "python",
   "nbconvert_exporter": "python",
   "pygments_lexer": "ipython3",
   "version": "3.7.3"
  }
 },
 "nbformat": 4,
 "nbformat_minor": 2
}
